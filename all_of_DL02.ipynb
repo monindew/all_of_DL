{
  "nbformat": 4,
  "nbformat_minor": 0,
  "metadata": {
    "colab": {
      "provenance": [],
      "authorship_tag": "ABX9TyPXaInyWlZmfaGYdQhSSvWN",
      "include_colab_link": true
    },
    "kernelspec": {
      "name": "python3",
      "display_name": "Python 3"
    },
    "language_info": {
      "name": "python"
    }
  },
  "cells": [
    {
      "cell_type": "markdown",
      "metadata": {
        "id": "view-in-github",
        "colab_type": "text"
      },
      "source": [
        "<a href=\"https://colab.research.google.com/github/monindew/all_of_DL/blob/main/all_of_DL02.ipynb\" target=\"_parent\"><img src=\"https://colab.research.google.com/assets/colab-badge.svg\" alt=\"Open In Colab\"/></a>"
      ]
    },
    {
      "cell_type": "code",
      "source": [
        "import numpy as np"
      ],
      "metadata": {
        "id": "oSUrDYeutsgi"
      },
      "execution_count": 1,
      "outputs": []
    },
    {
      "cell_type": "code",
      "execution_count": 2,
      "metadata": {
        "id": "Ch_Z4YZltgVV"
      },
      "outputs": [],
      "source": [
        "x = np.array([2,4,6,8])\n",
        "y = np.array([81,93,91,97])"
      ]
    },
    {
      "cell_type": "code",
      "source": [
        "mx = np.mean(x)\n",
        "my = np.mean(y)"
      ],
      "metadata": {
        "id": "w-ActrTjtq6W"
      },
      "execution_count": 3,
      "outputs": []
    },
    {
      "cell_type": "code",
      "source": [
        "divisor = sum([(i - mx)**2 for i in x])"
      ],
      "metadata": {
        "id": "1eMR4WFIt1vx"
      },
      "execution_count": 4,
      "outputs": []
    },
    {
      "cell_type": "code",
      "source": [
        "def top(x, mx, y, my):\n",
        "  d = 0\n",
        "  for i in range(len(x)):\n",
        "    d += (x[i] - mx) * (y[i] - my)\n",
        "  return d\n",
        "\n",
        "dividend = top(x, mx, y, my)"
      ],
      "metadata": {
        "id": "N0OzZa1ft7S5"
      },
      "execution_count": 5,
      "outputs": []
    },
    {
      "cell_type": "code",
      "source": [
        "a = dividend / divisor\n",
        "b = my - (mx*a)"
      ],
      "metadata": {
        "id": "vT5xGiqzuKtD"
      },
      "execution_count": 6,
      "outputs": []
    },
    {
      "cell_type": "code",
      "source": [
        "print(a)\n",
        "print(b)"
      ],
      "metadata": {
        "colab": {
          "base_uri": "https://localhost:8080/"
        },
        "id": "ZSbM5xbJrVfA",
        "outputId": "46107c2b-ce58-4649-f574-34a4476a5192"
      },
      "execution_count": 7,
      "outputs": [
        {
          "output_type": "stream",
          "name": "stdout",
          "text": [
            "2.3\n",
            "79.0\n"
          ]
        }
      ]
    },
    {
      "cell_type": "markdown",
      "source": [
        "### **평균제곱오차**\n"
      ],
      "metadata": {
        "id": "WV-gjWR-rOVz"
      }
    },
    {
      "cell_type": "code",
      "source": [
        "fake_a = 3\n",
        "fake_b = 76\n",
        "\n",
        "def predict(x):\n",
        "  return fake_a * x + fake_b"
      ],
      "metadata": {
        "id": "JN3Drq2euc2G"
      },
      "execution_count": 8,
      "outputs": []
    },
    {
      "cell_type": "code",
      "source": [
        "predict_result = []"
      ],
      "metadata": {
        "id": "Wl2nae39rjcE"
      },
      "execution_count": 9,
      "outputs": []
    },
    {
      "cell_type": "code",
      "source": [
        "for i in range(len(x)):\n",
        "  predict_result.append(predict(x[i]))\n",
        "  print(\"공부시간=%.f, 실제점수=%.f, 예측점수=%.f\" % (x[i], y[i], predict(x[i])))"
      ],
      "metadata": {
        "colab": {
          "base_uri": "https://localhost:8080/"
        },
        "id": "7Atg3atxrlXz",
        "outputId": "be6a45af-ff56-4564-e181-b33be62cc3eb"
      },
      "execution_count": 10,
      "outputs": [
        {
          "output_type": "stream",
          "name": "stdout",
          "text": [
            "공부시간=2, 실제점수=81, 예측점수=82\n",
            "공부시간=4, 실제점수=93, 예측점수=88\n",
            "공부시간=6, 실제점수=91, 예측점수=94\n",
            "공부시간=8, 실제점수=97, 예측점수=100\n"
          ]
        }
      ]
    },
    {
      "cell_type": "code",
      "source": [
        "n = len(x)\n",
        "def mse(y, y_pred):\n",
        "  return (1/n) * sum((y - y_pred)**2)"
      ],
      "metadata": {
        "id": "ylqUepYJsCY4"
      },
      "execution_count": 11,
      "outputs": []
    },
    {
      "cell_type": "code",
      "source": [
        "print(\"평균 제곱 오차: \" + str(mse(y, predict_result)))"
      ],
      "metadata": {
        "colab": {
          "base_uri": "https://localhost:8080/"
        },
        "id": "tiMkglxVsM_c",
        "outputId": "a0cf6f72-a6d0-4b14-b7b2-330d8930314a"
      },
      "execution_count": 13,
      "outputs": [
        {
          "output_type": "stream",
          "name": "stdout",
          "text": [
            "평균 제곱 오차: 11.0\n"
          ]
        }
      ]
    }
  ]
}