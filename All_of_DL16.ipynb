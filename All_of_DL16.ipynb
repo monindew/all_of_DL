{
  "cells": [
    {
      "cell_type": "markdown",
      "metadata": {
        "id": "view-in-github",
        "colab_type": "text"
      },
      "source": [
        "<a href=\"https://colab.research.google.com/github/monindew/all_of_DL/blob/main/All_of_DL16.ipynb\" target=\"_parent\"><img src=\"https://colab.research.google.com/assets/colab-badge.svg\" alt=\"Open In Colab\"/></a>"
      ]
    },
    {
      "cell_type": "code",
      "execution_count": null,
      "metadata": {
        "id": "KfFu2mYRQfO2"
      },
      "outputs": [],
      "source": [
        "from tensorflow.keras.datasets import mnist"
      ]
    },
    {
      "cell_type": "code",
      "execution_count": null,
      "metadata": {
        "colab": {
          "base_uri": "https://localhost:8080/"
        },
        "id": "zRRl2eavR4op",
        "outputId": "3959a479-cb8c-481d-b689-a226ff2cabe9"
      },
      "outputs": [
        {
          "name": "stdout",
          "output_type": "stream",
          "text": [
            "Downloading data from https://storage.googleapis.com/tensorflow/tf-keras-datasets/mnist.npz\n",
            "\u001b[1m11490434/11490434\u001b[0m \u001b[32m━━━━━━━━━━━━━━━━━━━━\u001b[0m\u001b[37m\u001b[0m \u001b[1m0s\u001b[0m 0us/step\n"
          ]
        }
      ],
      "source": [
        "(X_train, y_train), (X_test, y_test) = mnist.load_data()"
      ]
    },
    {
      "cell_type": "code",
      "execution_count": null,
      "metadata": {
        "colab": {
          "base_uri": "https://localhost:8080/"
        },
        "id": "FmlX9AjfR94K",
        "outputId": "c875784a-03cc-49b9-a91a-2e97364edede"
      },
      "outputs": [
        {
          "name": "stdout",
          "output_type": "stream",
          "text": [
            "학습셋 이미지 수 : 60000개) \n",
            "테스트셋 이미지 수 : 10000개) \n"
          ]
        }
      ],
      "source": [
        "print(\"학습셋 이미지 수 : %d개) \" % (X_train.shape[0]))\n",
        "print(\"테스트셋 이미지 수 : %d개) \" % (X_test.shape[0]))"
      ]
    },
    {
      "cell_type": "code",
      "execution_count": null,
      "metadata": {
        "colab": {
          "base_uri": "https://localhost:8080/",
          "height": 430
        },
        "id": "rSaQHx1ZSLPR",
        "outputId": "14b668ad-80cc-43ef-ed2f-27a417331f4a"
      },
      "outputs": [
        {
          "data": {
            "image/png": "[encoded data removed]",
            "text/plain": [
              "<Figure size 640x480 with 1 Axes>"
            ]
          },
          "metadata": {},
          "output_type": "display_data"
        }
      ],
      "source": [
        "import matplotlib.pyplot as plt\n",
        "\n",
        "plt.imshow(X_train[0], cmap=\"Greys\")\n",
        "plt.show()"
      ]
    },
    {
      "cell_type": "code",
      "execution_count": null,
      "metadata": {
        "colab": {
          "base_uri": "https://localhost:8080/"
        },
        "id": "LVAxcpRgSYk5",
        "outputId": "a833ab9b-08ba-4e09-b68e-38a65eb47750"
      },
      "outputs": [
        {
          "name": "stdout",
          "output_type": "stream",
          "text": [
            "0  0  0  0  0  0  0  0  0  0  0  0  0  0  0  0  0  0  0  0  0  0  0  0  0  0  0  0  \n",
            "0  0  0  0  0  0  0  0  0  0  0  0  0  0  0  0  0  0  0  0  0  0  0  0  0  0  0  0  \n",
            "0  0  0  0  0  0  0  0  0  0  0  0  0  0  0  0  0  0  0  0  0  0  0  0  0  0  0  0  \n",
            "0  0  0  0  0  0  0  0  0  0  0  0  0  0  0  0  0  0  0  0  0  0  0  0  0  0  0  0  \n",
            "0  0  0  0  0  0  0  0  0  0  0  0  0  0  0  0  0  0  0  0  0  0  0  0  0  0  0  0  \n",
            "0  0  0  0  0  0  0  0  0  0  0  0  3  18 18 18 12613617526 1662552471270  0  0  0  \n",
            "0  0  0  0  0  0  0  0  30 36 94 15417025325325325325322517225324219564 0  0  0  0  \n",
            "0  0  0  0  0  0  0  49 23825325325325325325325325325193 82 82 56 39 0  0  0  0  0  \n",
            "0  0  0  0  0  0  0  18 2192532532532532531981822472410  0  0  0  0  0  0  0  0  0  \n",
            "0  0  0  0  0  0  0  0  80 15610725325320511 0  43 1540  0  0  0  0  0  0  0  0  0  \n",
            "0  0  0  0  0  0  0  0  0  14 1  15425390 0  0  0  0  0  0  0  0  0  0  0  0  0  0  \n",
            "0  0  0  0  0  0  0  0  0  0  0  1392531902  0  0  0  0  0  0  0  0  0  0  0  0  0  \n",
            "0  0  0  0  0  0  0  0  0  0  0  11 19025370 0  0  0  0  0  0  0  0  0  0  0  0  0  \n",
            "0  0  0  0  0  0  0  0  0  0  0  0  35 2412251601081  0  0  0  0  0  0  0  0  0  0  \n",
            "0  0  0  0  0  0  0  0  0  0  0  0  0  81 24025325311925 0  0  0  0  0  0  0  0  0  \n",
            "0  0  0  0  0  0  0  0  0  0  0  0  0  0  45 18625325315027 0  0  0  0  0  0  0  0  \n",
            "0  0  0  0  0  0  0  0  0  0  0  0  0  0  0  16 93 2522531870  0  0  0  0  0  0  0  \n",
            "0  0  0  0  0  0  0  0  0  0  0  0  0  0  0  0  0  24925324964 0  0  0  0  0  0  0  \n",
            "0  0  0  0  0  0  0  0  0  0  0  0  0  0  46 1301832532532072  0  0  0  0  0  0  0  \n",
            "0  0  0  0  0  0  0  0  0  0  0  0  39 1482292532532532501820  0  0  0  0  0  0  0  \n",
            "0  0  0  0  0  0  0  0  0  0  24 11422125325325325320178 0  0  0  0  0  0  0  0  0  \n",
            "0  0  0  0  0  0  0  0  23 66 21325325325325319881 2  0  0  0  0  0  0  0  0  0  0  \n",
            "0  0  0  0  0  0  18 17121925325325325319580 9  0  0  0  0  0  0  0  0  0  0  0  0  \n",
            "0  0  0  0  55 17222625325325325324413311 0  0  0  0  0  0  0  0  0  0  0  0  0  0  \n",
            "0  0  0  0  13625325325321213513216 0  0  0  0  0  0  0  0  0  0  0  0  0  0  0  0  \n",
            "0  0  0  0  0  0  0  0  0  0  0  0  0  0  0  0  0  0  0  0  0  0  0  0  0  0  0  0  \n",
            "0  0  0  0  0  0  0  0  0  0  0  0  0  0  0  0  0  0  0  0  0  0  0  0  0  0  0  0  \n",
            "0  0  0  0  0  0  0  0  0  0  0  0  0  0  0  0  0  0  0  0  0  0  0  0  0  0  0  0  \n"
          ]
        }
      ],
      "source": [
        "import sys\n",
        "\n",
        "for x in X_train[0]:\n",
        "  for i in x:\n",
        "    sys.stdout.write(\"%-3s\" % i)\n",
        "  sys.stdout.write(\"\\n\")"
      ]
    },
    {
      "cell_type": "code",
      "execution_count": null,
      "metadata": {
        "id": "7AbiQAm4TMRV"
      },
      "outputs": [],
      "source": [
        "X_train = X_train.reshape(X_train.shape[0], 784)"
      ]
    },
    {
      "cell_type": "code",
      "execution_count": null,
      "metadata": {
        "id": "o9p0DDa4TgZt"
      },
      "outputs": [],
      "source": [
        " X_train = X_train.astype(\"float64\")\n",
        " X_train = X_train / 255"
      ]
    },
    {
      "cell_type": "code",
      "execution_count": null,
      "metadata": {
        "id": "l-4rhxilVQqx"
      },
      "outputs": [],
      "source": [
        "X_test = X_test.reshape(X_test.shape[0], 784).astype(\"float64\") / 255"
      ]
    },
    {
      "cell_type": "code",
      "execution_count": null,
      "metadata": {
        "colab": {
          "base_uri": "https://localhost:8080/"
        },
        "id": "wKj3HEZVVYZB",
        "outputId": "e51acdaf-d49b-4e1d-cced-b8613b52cf47"
      },
      "outputs": [
        {
          "name": "stdout",
          "output_type": "stream",
          "text": [
            "class : 5 \n"
          ]
        }
      ],
      "source": [
        "print(\"class : %d \" % (y_train[0]))"
      ]
    },
    {
      "cell_type": "code",
      "execution_count": null,
      "metadata": {
        "id": "Ok5mywvEVjRT"
      },
      "outputs": [],
      "source": [
        "from tensorflow.keras.utils import to_categorical\n",
        "\n",
        "y_train = to_categorical(y_train, 10)\n",
        "y_test = to_categorical(y_test, 10)"
      ]
    },
    {
      "cell_type": "code",
      "execution_count": null,
      "metadata": {
        "colab": {
          "base_uri": "https://localhost:8080/"
        },
        "id": "0H1-BpE8V0kc",
        "outputId": "2d8eb40b-9714-4506-fd05-4a630e702583"
      },
      "outputs": [
        {
          "name": "stdout",
          "output_type": "stream",
          "text": [
            "[0. 0. 0. 0. 0. 1. 0. 0. 0. 0.]\n"
          ]
        }
      ],
      "source": [
        "print(y_train[0])"
      ]
    },
    {
      "cell_type": "code",
      "execution_count": null,
      "metadata": {
        "colab": {
          "base_uri": "https://localhost:8080/"
        },
        "id": "PIknMhz2V1oC",
        "outputId": "cdc375f0-521e-42ba-dfc5-67d38a776af2"
      },
      "outputs": [
        {
          "name": "stderr",
          "output_type": "stream",
          "text": [
            "/usr/local/lib/python3.10/dist-packages/keras/src/layers/core/dense.py:87: UserWarning: Do not pass an `input_shape`/`input_dim` argument to a layer. When using Sequential models, prefer using an `Input(shape)` object as the first layer in the model instead.\n",
            "  super().__init__(activity_regularizer=activity_regularizer, **kwargs)\n"
          ]
        }
      ],
      "source": [
        "from tensorflow.keras.models import Sequential\n",
        "from tensorflow.keras.layers import Dense\n",
        "from tensorflow.keras.callbacks import ModelCheckpoint, EarlyStopping\n",
        "\n",
        "model = Sequential()\n",
        "model.add(Dense(512, input_dim=784, activation=\"relu\"))\n",
        "model.add(Dense(10, activation=\"softmax\"))"
      ]
    },
    {
      "cell_type": "code",
      "execution_count": null,
      "metadata": {
        "id": "Px2tm1loWlTc"
      },
      "outputs": [],
      "source": [
        "model.compile(loss=\"categorical_crossentropy\", optimizer=\"adam\", metrics=[\"accuracy\"])"
      ]
    },
    {
      "cell_type": "code",
      "execution_count": null,
      "metadata": {
        "id": "uoNZiL34Wq7o"
      },
      "outputs": [],
      "source": [
        "modelpath = \"./MNIST_MLP.keras\"\n",
        "checkpointer = ModelCheckpoint(filepath=modelpath, monitor=\"val_loss\", verbose=1, save_best_only=True)\n",
        "early_stopping_callback = EarlyStopping(monitor=\"val_loss\", patience=10)"
      ]
    },
    {
      "cell_type": "code",
      "execution_count": null,
      "metadata": {
        "colab": {
          "base_uri": "https://localhost:8080/"
        },
        "id": "qxvhan2Oo03M",
        "outputId": "9c954b0c-aa56-4e3d-db98-c6deaf442a73"
      },
      "outputs": [
        {
          "name": "stdout",
          "output_type": "stream",
          "text": [
            "\n",
            "Epoch 1: val_loss improved from inf to 0.18979, saving model to ./MNIST_MLP.keras\n",
            "\n",
            "Epoch 2: val_loss improved from 0.18979 to 0.14101, saving model to ./MNIST_MLP.keras\n",
            "\n",
            "Epoch 3: val_loss improved from 0.14101 to 0.11610, saving model to ./MNIST_MLP.keras\n",
            "\n",
            "Epoch 4: val_loss improved from 0.11610 to 0.10570, saving model to ./MNIST_MLP.keras\n",
            "\n",
            "Epoch 5: val_loss improved from 0.10570 to 0.09417, saving model to ./MNIST_MLP.keras\n",
            "\n",
            "Epoch 6: val_loss improved from 0.09417 to 0.08593, saving model to ./MNIST_MLP.keras\n",
            "\n",
            "Epoch 7: val_loss improved from 0.08593 to 0.08148, saving model to ./MNIST_MLP.keras\n",
            "\n",
            "Epoch 8: val_loss improved from 0.08148 to 0.07818, saving model to ./MNIST_MLP.keras\n",
            "\n",
            "Epoch 9: val_loss did not improve from 0.07818\n",
            "\n",
            "Epoch 10: val_loss improved from 0.07818 to 0.07758, saving model to ./MNIST_MLP.keras\n",
            "\n",
            "Epoch 11: val_loss did not improve from 0.07758\n",
            "\n",
            "Epoch 12: val_loss did not improve from 0.07758\n",
            "\n",
            "Epoch 13: val_loss did not improve from 0.07758\n",
            "\n",
            "Epoch 14: val_loss did not improve from 0.07758\n",
            "\n",
            "Epoch 15: val_loss did not improve from 0.07758\n",
            "\n",
            "Epoch 16: val_loss did not improve from 0.07758\n",
            "\n",
            "Epoch 17: val_loss did not improve from 0.07758\n",
            "\n",
            "Epoch 18: val_loss did not improve from 0.07758\n",
            "\n",
            "Epoch 19: val_loss did not improve from 0.07758\n",
            "\n",
            "Epoch 20: val_loss did not improve from 0.07758\n",
            "\u001b[1m313/313\u001b[0m \u001b[32m━━━━━━━━━━━━━━━━━━━━\u001b[0m\u001b[37m\u001b[0m \u001b[1m1s\u001b[0m 4ms/step - accuracy: 0.9789 - loss: 0.0797\n",
            "\n",
            " Test Accuracy: 0.9813\n"
          ]
        }
      ],
      "source": [
        "history = model.fit(X_train, y_train, validation_split=0.25, epochs=30, batch_size=200, verbose=0, callbacks=[early_stopping_callback, checkpointer])\n",
        "print(\"\\n Test Accuracy: %.4f\" % (model.evaluate(X_test, y_test)[1]))"
      ]
    },
    {
      "cell_type": "code",
      "execution_count": null,
      "metadata": {
        "colab": {
          "base_uri": "https://localhost:8080/",
          "height": 449
        },
        "id": "7N_62QRnpLC-",
        "outputId": "b329ea77-eafd-4ccf-861c-6b1fe8edbabb"
      },
      "outputs": [
        {
          "data": {
            "image/png": "[encoded data removed]",
            "text/plain": [
              "<Figure size 640x480 with 1 Axes>"
            ]
          },
          "metadata": {},
          "output_type": "display_data"
        }
      ],
      "source": [
        "import matplotlib.pyplot as plt\n",
        "import numpy as np\n",
        "\n",
        "y_vloss = history.history[\"val_loss\"]\n",
        "y_loss = history.history[\"loss\"]\n",
        "\n",
        "x_len = np.arange(len(y_loss))\n",
        "plt.plot(x_len, y_vloss, marker=\".\", c=\"red\", label=\"Testset_loss\")\n",
        "plt.plot(x_len ,y_loss, marker=\".\", c=\"blue\", label=\"Trainset_loss\")\n",
        "\n",
        "plt.legend(loc=\"upper right\")\n",
        "plt.grid()\n",
        "plt.xlabel(\"epoch\")\n",
        "plt.ylabel(\"loss\")\n",
        "plt.show()"
      ]
    },
    {
      "cell_type": "code",
      "execution_count": null,
      "metadata": {
        "colab": {
          "background_save": true,
          "base_uri": "https://localhost:8080/"
        },
        "id": "KyAaEPWcpsKa",
        "outputId": "7b827abc-dfb1-48f5-d15e-2f58d4891d4c"
      },
      "outputs": [
        {
          "name": "stdout",
          "output_type": "stream",
          "text": [
            "\n",
            "Epoch 1: val_loss improved from inf to 0.08176, saving model to ./MNIST_CNN.keras\n",
            "\n",
            "Epoch 2: val_loss improved from 0.08176 to 0.05531, saving model to ./MNIST_CNN.keras\n",
            "\n",
            "Epoch 3: val_loss improved from 0.05531 to 0.04888, saving model to ./MNIST_CNN.keras\n",
            "\n",
            "Epoch 4: val_loss improved from 0.04888 to 0.04501, saving model to ./MNIST_CNN.keras\n",
            "\n",
            "Epoch 5: val_loss did not improve from 0.04501\n",
            "\n",
            "Epoch 6: val_loss did not improve from 0.04501\n",
            "\n",
            "Epoch 7: val_loss did not improve from 0.04501\n",
            "\n",
            "Epoch 8: val_loss improved from 0.04501 to 0.04237, saving model to ./MNIST_CNN.keras\n",
            "\n",
            "Epoch 9: val_loss improved from 0.04237 to 0.04112, saving model to ./MNIST_CNN.keras\n",
            "\n",
            "Epoch 10: val_loss did not improve from 0.04112\n",
            "\n",
            "Epoch 11: val_loss did not improve from 0.04112\n",
            "\n",
            "Epoch 12: val_loss did not improve from 0.04112\n",
            "\n",
            "Epoch 13: val_loss did not improve from 0.04112\n",
            "\n",
            "Epoch 14: val_loss did not improve from 0.04112\n",
            "\n",
            "Epoch 15: val_loss did not improve from 0.04112\n",
            "\n",
            "Epoch 16: val_loss did not improve from 0.04112\n",
            "\n",
            "Epoch 17: val_loss did not improve from 0.04112\n",
            "\n",
            "Epoch 18: val_loss did not improve from 0.04112\n",
            "\n",
            "Epoch 19: val_loss did not improve from 0.04112\n",
            "\u001b[1m313/313\u001b[0m \u001b[32m━━━━━━━━━━━━━━━━━━━━\u001b[0m\u001b[37m\u001b[0m \u001b[1m6s\u001b[0m 20ms/step - accuracy: 0.9877 - loss: 0.4367\n",
            "\n",
            " Test Accuracy: 0.9907\n"
          ]
        },
        {
          "data": {
            "image/png": "[encoded data removed]",
            "text/plain": [
              "<Figure size 640x480 with 1 Axes>"
            ]
          },
          "metadata": {},
          "output_type": "display_data"
        }
      ],
      "source": [
        "from tensorflow.keras.models import Sequential\n",
        "from tensorflow.keras.layers import Dense, Dropout, Flatten, Conv2D, MaxPooling2D\n",
        "from tensorflow.keras.callbacks import ModelCheckpoint, EarlyStopping\n",
        "from tensorflow.keras.datasets import mnist\n",
        "from tensorflow.keras.utils import to_categorical\n",
        "import matplotlib.pyplot as plt\n",
        "import numpy as np\n",
        "\n",
        "(X_train, y_train), (X_test, y_test) = mnist.load_data()\n",
        "X_train = X_train.reshape(X_train.shape[0], 28, 28, 1).astype(\"float32\") / 255\n",
        "X_test = X_test.reshape(X_test.shape[0], 28, 28, 1).astype(\"float32\") / 25\n",
        "y_train = to_categorical(y_train)\n",
        "y_test = to_categorical(y_test)\n",
        "\n",
        "model = Sequential()\n",
        "model.add(Conv2D(32, kernel_size=(3,3), input_shape=(28,28,1), activation=\"relu\"))\n",
        "model.add(Conv2D(64, (3,3), activation=\"relu\"))\n",
        "model.add(MaxPooling2D(pool_size=(2,2)))\n",
        "model.add(Dropout(0.25))\n",
        "model.add(Flatten())\n",
        "model.add(Dense(128, activation=\"relu\"))\n",
        "model.add(Dropout(0.5))\n",
        "model.add(Dense(10, activation=\"softmax\"))\n",
        "\n",
        "model.compile(loss=\"categorical_crossentropy\", optimizer=\"adam\", metrics=[\"accuracy\"])\n",
        "modelpath = \"./MNIST_CNN.keras\"\n",
        "checkpointer = ModelCheckpoint(filepath=modelpath, monitor=\"val_loss\", verbose=1, save_best_only=True)\n",
        "early_stopping_callback = EarlyStopping(monitor=\"val_loss\", patience=10)\n",
        "\n",
        "history = model.fit(X_train, y_train, validation_split=0.25, epochs=30, batch_size=200, verbose=0, callbacks=[early_stopping_callback, checkpointer])\n",
        "\n",
        "print(\"\\n Test Accuracy: %.4f\" % (model.evaluate(X_test, y_test)[1]))\n",
        "\n",
        "y_vloss = history.history[\"val_loss\"]\n",
        "y_loss = history.history[\"loss\"]\n",
        "\n",
        "x_len = np.arange(len(y_loss))\n",
        "plt.plot(x_len, y_vloss, marker=\".\", c=\"red\", label=\"Testset_loss\")\n",
        "plt.plot(x_len ,y_loss, marker=\".\", c=\"blue\", label=\"Trainset_loss\")\n",
        "\n",
        "plt.legend(loc=\"upper right\")\n",
        "plt.grid()\n",
        "plt.xlabel(\"epoch\")\n",
        "plt.ylabel(\"loss\")\n",
        "plt.show()\n"
      ]
    },
    {
      "cell_type": "code",
      "execution_count": null,
      "metadata": {
        "id": "gOcL2v_XvHlA"
      },
      "outputs": [],
      "source": []
    }
  ],
  "metadata": {
    "colab": {
      "provenance": [],
      "authorship_tag": "ABX9TyMeK2lfPdMxk3t16mj+ysb4",
      "include_colab_link": true
    },
    "kernelspec": {
      "display_name": "Python 3",
      "name": "python3"
    },
    "language_info": {
      "name": "python"
    }
  },
  "nbformat": 4,
  "nbformat_minor": 0
}